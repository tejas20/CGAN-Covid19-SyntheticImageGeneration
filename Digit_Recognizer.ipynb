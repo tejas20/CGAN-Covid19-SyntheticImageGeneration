{
  "nbformat": 4,
  "nbformat_minor": 0,
  "metadata": {
    "colab": {
      "name": "Digit Recognizer.ipynb",
      "provenance": [],
      "collapsed_sections": [],
      "include_colab_link": true
    },
    "kernelspec": {
      "name": "python3",
      "display_name": "Python 3"
    },
    "language_info": {
      "name": "python"
    },
    "accelerator": "GPU"
  },
  "cells": [
    {
      "cell_type": "markdown",
      "metadata": {
        "id": "view-in-github",
        "colab_type": "text"
      },
      "source": [
        "<a href=\"https://colab.research.google.com/github/tejas20/CGAN-Covid19-SyntheticImageGeneration/blob/main/Digit_Recognizer.ipynb\" target=\"_parent\"><img src=\"https://colab.research.google.com/assets/colab-badge.svg\" alt=\"Open In Colab\"/></a>"
      ]
    },
    {
      "cell_type": "markdown",
      "metadata": {
        "id": "8p57tpE2V4H3"
      },
      "source": [
        "# **Introduction to CNN Keras - Acc 0.993 (top 10%)**\n",
        "\n",
        "1. Introduction\n",
        "2. Data preparation\n",
        "    \n",
        "    2.1 Load data\n",
        "    \n",
        "    2.2 Check for null and missing values\n",
        "\n",
        "    2.3 Label encoding\n",
        "\n",
        "    2.4 Reshape\n",
        "    \n",
        "    2.5 Normalization and Data augmentation\n",
        "    \n",
        "    2.6 Split training and valdiation set\n",
        "\n",
        "    2.7 Passing the Train dataset to the ImageDataGenerator\n",
        "3. CNN\n",
        "\n",
        "    3.1 Define the model\n",
        "\n",
        "    3.2 Set the optimizer and annealer\n",
        "    \n",
        "4. Evaluate the model\n",
        "\n",
        "    4.1 Training and validation curves\n",
        "\n",
        "    4.2. Evaluating the Model\n",
        "    \n",
        "    4.3 Confusion matrix\n",
        "5. Prediction and submition\n",
        "\n",
        "    5.1 Predict and Submit results\n",
        "\n",
        "\n",
        "# **1. Introduction**\n",
        "\n",
        "This is a 5 layers Sequential Convolutional Neural Network for digits recognition trained on MNIST dataset. I choosed to build it with keras API (Tensorflow backend) which is very intuitive. Firstly, I will prepare the data (handwritten digits images) then i will focus on the CNN modeling and evaluation.\n",
        "\n",
        "For computational reasons, i set the number of steps (epochs) to 2, if you want to achieve 99+% of accuracy set it to 30.\n",
        "\n",
        "This Notebook follows three main parts:\n",
        "\n",
        "*   The data preparation\n",
        "*   The CNN modeling and evaluation\n",
        "*   The results prediction and submission"
      ]
    },
    {
      "cell_type": "code",
      "metadata": {
        "colab": {
          "base_uri": "https://localhost:8080/"
        },
        "id": "mLIusgkMQosQ",
        "outputId": "b1b62b28-3627-4074-921d-105fab113bad"
      },
      "source": [
        "#Mounting the drive\n",
        "from google.colab import drive\n",
        "drive.mount('/content/drive')"
      ],
      "execution_count": null,
      "outputs": [
        {
          "output_type": "stream",
          "text": [
            "Drive already mounted at /content/drive; to attempt to forcibly remount, call drive.mount(\"/content/drive\", force_remount=True).\n"
          ],
          "name": "stdout"
        }
      ]
    },
    {
      "cell_type": "code",
      "metadata": {
        "id": "6aip5_O-X_1q"
      },
      "source": [
        "#importing all the libraries\n",
        "import numpy as np # linear algebra\n",
        "import pandas as pd # data processing, CSV file I/O (e.g. pd.read_csv)\n",
        "from sklearn.model_selection import train_test_split\n",
        "import tensorflow as tf\n",
        "from tensorflow.keras.utils import to_categorical #import categorical from keras.utils library\n",
        "from tensorflow.keras.preprocessing.image import ImageDataGenerator\n",
        "\n",
        "from tensorflow.keras.applications.densenet import preprocess_input\n",
        "import matplotlib.pyplot as plt \n",
        "from keras.metrics import Recall,Precision\n",
        "from sklearn.metrics import confusion_matrix\n",
        "import itertools\n",
        "\n",
        "from keras.optimizers import RMSprop\n",
        "from keras.callbacks import ReduceLROnPlateau\n",
        "from tensorflow.keras.models import Sequential\n",
        "from tensorflow.keras.layers import InputLayer, BatchNormalization, Dropout, Flatten, Dense, Activation, MaxPool2D, Conv2D, MaxPooling2D\n",
        "from tensorflow.keras.callbacks import EarlyStopping, ModelCheckpoint\n",
        "from tensorflow.keras.preprocessing.image import load_img, img_to_array"
      ],
      "execution_count": null,
      "outputs": []
    },
    {
      "cell_type": "markdown",
      "metadata": {
        "id": "1ldKYddSYCMe"
      },
      "source": [
        "# **2. Data preparation**\n",
        "   \n",
        ">## **2.1 Load data**"
      ]
    },
    {
      "cell_type": "code",
      "metadata": {
        "id": "yH4Ekna_GKhO"
      },
      "source": [
        "#using pandas to read the csv file and save it in dataframe\n",
        "sample_submission_df = pd.read_csv('/content/drive/MyDrive/Colab Notebooks/Projects/sample_submission.csv')\n",
        "train_df = pd.read_csv('/content/drive/MyDrive/Colab Notebooks/Projects/train.csv')\n",
        "test_df = pd.read_csv('/content/drive/MyDrive/Colab Notebooks/Projects/test.csv')\n"
      ],
      "execution_count": null,
      "outputs": []
    },
    {
      "cell_type": "code",
      "metadata": {
        "colab": {
          "base_uri": "https://localhost:8080/",
          "height": 203
        },
        "id": "egVhN7AwIcIC",
        "outputId": "cd9ec677-a75c-462c-881a-f6bf70007120"
      },
      "source": [
        "#printing the head of dataframe\n",
        "sample_submission_df.head()"
      ],
      "execution_count": null,
      "outputs": [
        {
          "output_type": "execute_result",
          "data": {
            "text/html": [
              "<div>\n",
              "<style scoped>\n",
              "    .dataframe tbody tr th:only-of-type {\n",
              "        vertical-align: middle;\n",
              "    }\n",
              "\n",
              "    .dataframe tbody tr th {\n",
              "        vertical-align: top;\n",
              "    }\n",
              "\n",
              "    .dataframe thead th {\n",
              "        text-align: right;\n",
              "    }\n",
              "</style>\n",
              "<table border=\"1\" class=\"dataframe\">\n",
              "  <thead>\n",
              "    <tr style=\"text-align: right;\">\n",
              "      <th></th>\n",
              "      <th>ImageId</th>\n",
              "      <th>Label</th>\n",
              "    </tr>\n",
              "  </thead>\n",
              "  <tbody>\n",
              "    <tr>\n",
              "      <th>0</th>\n",
              "      <td>1</td>\n",
              "      <td>0</td>\n",
              "    </tr>\n",
              "    <tr>\n",
              "      <th>1</th>\n",
              "      <td>2</td>\n",
              "      <td>0</td>\n",
              "    </tr>\n",
              "    <tr>\n",
              "      <th>2</th>\n",
              "      <td>3</td>\n",
              "      <td>0</td>\n",
              "    </tr>\n",
              "    <tr>\n",
              "      <th>3</th>\n",
              "      <td>4</td>\n",
              "      <td>0</td>\n",
              "    </tr>\n",
              "    <tr>\n",
              "      <th>4</th>\n",
              "      <td>5</td>\n",
              "      <td>0</td>\n",
              "    </tr>\n",
              "  </tbody>\n",
              "</table>\n",
              "</div>"
            ],
            "text/plain": [
              "   ImageId  Label\n",
              "0        1      0\n",
              "1        2      0\n",
              "2        3      0\n",
              "3        4      0\n",
              "4        5      0"
            ]
          },
          "metadata": {
            "tags": []
          },
          "execution_count": 4
        }
      ]
    },
    {
      "cell_type": "code",
      "metadata": {
        "colab": {
          "base_uri": "https://localhost:8080/",
          "height": 252
        },
        "id": "1p4exPgdJfcn",
        "outputId": "d1684273-2a1d-4b75-e753-0800f0d6ea91"
      },
      "source": [
        "#printing the train data head to check values\n",
        "train_df.head()"
      ],
      "execution_count": null,
      "outputs": [
        {
          "output_type": "execute_result",
          "data": {
            "text/html": [
              "<div>\n",
              "<style scoped>\n",
              "    .dataframe tbody tr th:only-of-type {\n",
              "        vertical-align: middle;\n",
              "    }\n",
              "\n",
              "    .dataframe tbody tr th {\n",
              "        vertical-align: top;\n",
              "    }\n",
              "\n",
              "    .dataframe thead th {\n",
              "        text-align: right;\n",
              "    }\n",
              "</style>\n",
              "<table border=\"1\" class=\"dataframe\">\n",
              "  <thead>\n",
              "    <tr style=\"text-align: right;\">\n",
              "      <th></th>\n",
              "      <th>label</th>\n",
              "      <th>pixel0</th>\n",
              "      <th>pixel1</th>\n",
              "      <th>pixel2</th>\n",
              "      <th>pixel3</th>\n",
              "      <th>pixel4</th>\n",
              "      <th>pixel5</th>\n",
              "      <th>pixel6</th>\n",
              "      <th>pixel7</th>\n",
              "      <th>pixel8</th>\n",
              "      <th>pixel9</th>\n",
              "      <th>pixel10</th>\n",
              "      <th>pixel11</th>\n",
              "      <th>pixel12</th>\n",
              "      <th>pixel13</th>\n",
              "      <th>pixel14</th>\n",
              "      <th>pixel15</th>\n",
              "      <th>pixel16</th>\n",
              "      <th>pixel17</th>\n",
              "      <th>pixel18</th>\n",
              "      <th>pixel19</th>\n",
              "      <th>pixel20</th>\n",
              "      <th>pixel21</th>\n",
              "      <th>pixel22</th>\n",
              "      <th>pixel23</th>\n",
              "      <th>pixel24</th>\n",
              "      <th>pixel25</th>\n",
              "      <th>pixel26</th>\n",
              "      <th>pixel27</th>\n",
              "      <th>pixel28</th>\n",
              "      <th>pixel29</th>\n",
              "      <th>pixel30</th>\n",
              "      <th>pixel31</th>\n",
              "      <th>pixel32</th>\n",
              "      <th>pixel33</th>\n",
              "      <th>pixel34</th>\n",
              "      <th>pixel35</th>\n",
              "      <th>pixel36</th>\n",
              "      <th>pixel37</th>\n",
              "      <th>pixel38</th>\n",
              "      <th>...</th>\n",
              "      <th>pixel744</th>\n",
              "      <th>pixel745</th>\n",
              "      <th>pixel746</th>\n",
              "      <th>pixel747</th>\n",
              "      <th>pixel748</th>\n",
              "      <th>pixel749</th>\n",
              "      <th>pixel750</th>\n",
              "      <th>pixel751</th>\n",
              "      <th>pixel752</th>\n",
              "      <th>pixel753</th>\n",
              "      <th>pixel754</th>\n",
              "      <th>pixel755</th>\n",
              "      <th>pixel756</th>\n",
              "      <th>pixel757</th>\n",
              "      <th>pixel758</th>\n",
              "      <th>pixel759</th>\n",
              "      <th>pixel760</th>\n",
              "      <th>pixel761</th>\n",
              "      <th>pixel762</th>\n",
              "      <th>pixel763</th>\n",
              "      <th>pixel764</th>\n",
              "      <th>pixel765</th>\n",
              "      <th>pixel766</th>\n",
              "      <th>pixel767</th>\n",
              "      <th>pixel768</th>\n",
              "      <th>pixel769</th>\n",
              "      <th>pixel770</th>\n",
              "      <th>pixel771</th>\n",
              "      <th>pixel772</th>\n",
              "      <th>pixel773</th>\n",
              "      <th>pixel774</th>\n",
              "      <th>pixel775</th>\n",
              "      <th>pixel776</th>\n",
              "      <th>pixel777</th>\n",
              "      <th>pixel778</th>\n",
              "      <th>pixel779</th>\n",
              "      <th>pixel780</th>\n",
              "      <th>pixel781</th>\n",
              "      <th>pixel782</th>\n",
              "      <th>pixel783</th>\n",
              "    </tr>\n",
              "  </thead>\n",
              "  <tbody>\n",
              "    <tr>\n",
              "      <th>0</th>\n",
              "      <td>1</td>\n",
              "      <td>0</td>\n",
              "      <td>0</td>\n",
              "      <td>0</td>\n",
              "      <td>0</td>\n",
              "      <td>0</td>\n",
              "      <td>0</td>\n",
              "      <td>0</td>\n",
              "      <td>0</td>\n",
              "      <td>0</td>\n",
              "      <td>0</td>\n",
              "      <td>0</td>\n",
              "      <td>0</td>\n",
              "      <td>0</td>\n",
              "      <td>0</td>\n",
              "      <td>0</td>\n",
              "      <td>0</td>\n",
              "      <td>0</td>\n",
              "      <td>0</td>\n",
              "      <td>0</td>\n",
              "      <td>0</td>\n",
              "      <td>0</td>\n",
              "      <td>0</td>\n",
              "      <td>0</td>\n",
              "      <td>0</td>\n",
              "      <td>0</td>\n",
              "      <td>0</td>\n",
              "      <td>0</td>\n",
              "      <td>0</td>\n",
              "      <td>0</td>\n",
              "      <td>0</td>\n",
              "      <td>0</td>\n",
              "      <td>0</td>\n",
              "      <td>0</td>\n",
              "      <td>0</td>\n",
              "      <td>0</td>\n",
              "      <td>0</td>\n",
              "      <td>0</td>\n",
              "      <td>0</td>\n",
              "      <td>0</td>\n",
              "      <td>...</td>\n",
              "      <td>0</td>\n",
              "      <td>0</td>\n",
              "      <td>0</td>\n",
              "      <td>0</td>\n",
              "      <td>0</td>\n",
              "      <td>0</td>\n",
              "      <td>0</td>\n",
              "      <td>0</td>\n",
              "      <td>0</td>\n",
              "      <td>0</td>\n",
              "      <td>0</td>\n",
              "      <td>0</td>\n",
              "      <td>0</td>\n",
              "      <td>0</td>\n",
              "      <td>0</td>\n",
              "      <td>0</td>\n",
              "      <td>0</td>\n",
              "      <td>0</td>\n",
              "      <td>0</td>\n",
              "      <td>0</td>\n",
              "      <td>0</td>\n",
              "      <td>0</td>\n",
              "      <td>0</td>\n",
              "      <td>0</td>\n",
              "      <td>0</td>\n",
              "      <td>0</td>\n",
              "      <td>0</td>\n",
              "      <td>0</td>\n",
              "      <td>0</td>\n",
              "      <td>0</td>\n",
              "      <td>0</td>\n",
              "      <td>0</td>\n",
              "      <td>0</td>\n",
              "      <td>0</td>\n",
              "      <td>0</td>\n",
              "      <td>0</td>\n",
              "      <td>0</td>\n",
              "      <td>0</td>\n",
              "      <td>0</td>\n",
              "      <td>0</td>\n",
              "    </tr>\n",
              "    <tr>\n",
              "      <th>1</th>\n",
              "      <td>0</td>\n",
              "      <td>0</td>\n",
              "      <td>0</td>\n",
              "      <td>0</td>\n",
              "      <td>0</td>\n",
              "      <td>0</td>\n",
              "      <td>0</td>\n",
              "      <td>0</td>\n",
              "      <td>0</td>\n",
              "      <td>0</td>\n",
              "      <td>0</td>\n",
              "      <td>0</td>\n",
              "      <td>0</td>\n",
              "      <td>0</td>\n",
              "      <td>0</td>\n",
              "      <td>0</td>\n",
              "      <td>0</td>\n",
              "      <td>0</td>\n",
              "      <td>0</td>\n",
              "      <td>0</td>\n",
              "      <td>0</td>\n",
              "      <td>0</td>\n",
              "      <td>0</td>\n",
              "      <td>0</td>\n",
              "      <td>0</td>\n",
              "      <td>0</td>\n",
              "      <td>0</td>\n",
              "      <td>0</td>\n",
              "      <td>0</td>\n",
              "      <td>0</td>\n",
              "      <td>0</td>\n",
              "      <td>0</td>\n",
              "      <td>0</td>\n",
              "      <td>0</td>\n",
              "      <td>0</td>\n",
              "      <td>0</td>\n",
              "      <td>0</td>\n",
              "      <td>0</td>\n",
              "      <td>0</td>\n",
              "      <td>0</td>\n",
              "      <td>...</td>\n",
              "      <td>0</td>\n",
              "      <td>0</td>\n",
              "      <td>0</td>\n",
              "      <td>0</td>\n",
              "      <td>0</td>\n",
              "      <td>0</td>\n",
              "      <td>0</td>\n",
              "      <td>0</td>\n",
              "      <td>0</td>\n",
              "      <td>0</td>\n",
              "      <td>0</td>\n",
              "      <td>0</td>\n",
              "      <td>0</td>\n",
              "      <td>0</td>\n",
              "      <td>0</td>\n",
              "      <td>0</td>\n",
              "      <td>0</td>\n",
              "      <td>0</td>\n",
              "      <td>0</td>\n",
              "      <td>0</td>\n",
              "      <td>0</td>\n",
              "      <td>0</td>\n",
              "      <td>0</td>\n",
              "      <td>0</td>\n",
              "      <td>0</td>\n",
              "      <td>0</td>\n",
              "      <td>0</td>\n",
              "      <td>0</td>\n",
              "      <td>0</td>\n",
              "      <td>0</td>\n",
              "      <td>0</td>\n",
              "      <td>0</td>\n",
              "      <td>0</td>\n",
              "      <td>0</td>\n",
              "      <td>0</td>\n",
              "      <td>0</td>\n",
              "      <td>0</td>\n",
              "      <td>0</td>\n",
              "      <td>0</td>\n",
              "      <td>0</td>\n",
              "    </tr>\n",
              "    <tr>\n",
              "      <th>2</th>\n",
              "      <td>1</td>\n",
              "      <td>0</td>\n",
              "      <td>0</td>\n",
              "      <td>0</td>\n",
              "      <td>0</td>\n",
              "      <td>0</td>\n",
              "      <td>0</td>\n",
              "      <td>0</td>\n",
              "      <td>0</td>\n",
              "      <td>0</td>\n",
              "      <td>0</td>\n",
              "      <td>0</td>\n",
              "      <td>0</td>\n",
              "      <td>0</td>\n",
              "      <td>0</td>\n",
              "      <td>0</td>\n",
              "      <td>0</td>\n",
              "      <td>0</td>\n",
              "      <td>0</td>\n",
              "      <td>0</td>\n",
              "      <td>0</td>\n",
              "      <td>0</td>\n",
              "      <td>0</td>\n",
              "      <td>0</td>\n",
              "      <td>0</td>\n",
              "      <td>0</td>\n",
              "      <td>0</td>\n",
              "      <td>0</td>\n",
              "      <td>0</td>\n",
              "      <td>0</td>\n",
              "      <td>0</td>\n",
              "      <td>0</td>\n",
              "      <td>0</td>\n",
              "      <td>0</td>\n",
              "      <td>0</td>\n",
              "      <td>0</td>\n",
              "      <td>0</td>\n",
              "      <td>0</td>\n",
              "      <td>0</td>\n",
              "      <td>0</td>\n",
              "      <td>...</td>\n",
              "      <td>0</td>\n",
              "      <td>0</td>\n",
              "      <td>0</td>\n",
              "      <td>0</td>\n",
              "      <td>0</td>\n",
              "      <td>0</td>\n",
              "      <td>0</td>\n",
              "      <td>0</td>\n",
              "      <td>0</td>\n",
              "      <td>0</td>\n",
              "      <td>0</td>\n",
              "      <td>0</td>\n",
              "      <td>0</td>\n",
              "      <td>0</td>\n",
              "      <td>0</td>\n",
              "      <td>0</td>\n",
              "      <td>0</td>\n",
              "      <td>0</td>\n",
              "      <td>0</td>\n",
              "      <td>0</td>\n",
              "      <td>0</td>\n",
              "      <td>0</td>\n",
              "      <td>0</td>\n",
              "      <td>0</td>\n",
              "      <td>0</td>\n",
              "      <td>0</td>\n",
              "      <td>0</td>\n",
              "      <td>0</td>\n",
              "      <td>0</td>\n",
              "      <td>0</td>\n",
              "      <td>0</td>\n",
              "      <td>0</td>\n",
              "      <td>0</td>\n",
              "      <td>0</td>\n",
              "      <td>0</td>\n",
              "      <td>0</td>\n",
              "      <td>0</td>\n",
              "      <td>0</td>\n",
              "      <td>0</td>\n",
              "      <td>0</td>\n",
              "    </tr>\n",
              "    <tr>\n",
              "      <th>3</th>\n",
              "      <td>4</td>\n",
              "      <td>0</td>\n",
              "      <td>0</td>\n",
              "      <td>0</td>\n",
              "      <td>0</td>\n",
              "      <td>0</td>\n",
              "      <td>0</td>\n",
              "      <td>0</td>\n",
              "      <td>0</td>\n",
              "      <td>0</td>\n",
              "      <td>0</td>\n",
              "      <td>0</td>\n",
              "      <td>0</td>\n",
              "      <td>0</td>\n",
              "      <td>0</td>\n",
              "      <td>0</td>\n",
              "      <td>0</td>\n",
              "      <td>0</td>\n",
              "      <td>0</td>\n",
              "      <td>0</td>\n",
              "      <td>0</td>\n",
              "      <td>0</td>\n",
              "      <td>0</td>\n",
              "      <td>0</td>\n",
              "      <td>0</td>\n",
              "      <td>0</td>\n",
              "      <td>0</td>\n",
              "      <td>0</td>\n",
              "      <td>0</td>\n",
              "      <td>0</td>\n",
              "      <td>0</td>\n",
              "      <td>0</td>\n",
              "      <td>0</td>\n",
              "      <td>0</td>\n",
              "      <td>0</td>\n",
              "      <td>0</td>\n",
              "      <td>0</td>\n",
              "      <td>0</td>\n",
              "      <td>0</td>\n",
              "      <td>0</td>\n",
              "      <td>...</td>\n",
              "      <td>0</td>\n",
              "      <td>0</td>\n",
              "      <td>0</td>\n",
              "      <td>0</td>\n",
              "      <td>0</td>\n",
              "      <td>0</td>\n",
              "      <td>0</td>\n",
              "      <td>0</td>\n",
              "      <td>0</td>\n",
              "      <td>0</td>\n",
              "      <td>0</td>\n",
              "      <td>0</td>\n",
              "      <td>0</td>\n",
              "      <td>0</td>\n",
              "      <td>0</td>\n",
              "      <td>0</td>\n",
              "      <td>0</td>\n",
              "      <td>0</td>\n",
              "      <td>0</td>\n",
              "      <td>0</td>\n",
              "      <td>0</td>\n",
              "      <td>0</td>\n",
              "      <td>0</td>\n",
              "      <td>0</td>\n",
              "      <td>0</td>\n",
              "      <td>0</td>\n",
              "      <td>0</td>\n",
              "      <td>0</td>\n",
              "      <td>0</td>\n",
              "      <td>0</td>\n",
              "      <td>0</td>\n",
              "      <td>0</td>\n",
              "      <td>0</td>\n",
              "      <td>0</td>\n",
              "      <td>0</td>\n",
              "      <td>0</td>\n",
              "      <td>0</td>\n",
              "      <td>0</td>\n",
              "      <td>0</td>\n",
              "      <td>0</td>\n",
              "    </tr>\n",
              "    <tr>\n",
              "      <th>4</th>\n",
              "      <td>0</td>\n",
              "      <td>0</td>\n",
              "      <td>0</td>\n",
              "      <td>0</td>\n",
              "      <td>0</td>\n",
              "      <td>0</td>\n",
              "      <td>0</td>\n",
              "      <td>0</td>\n",
              "      <td>0</td>\n",
              "      <td>0</td>\n",
              "      <td>0</td>\n",
              "      <td>0</td>\n",
              "      <td>0</td>\n",
              "      <td>0</td>\n",
              "      <td>0</td>\n",
              "      <td>0</td>\n",
              "      <td>0</td>\n",
              "      <td>0</td>\n",
              "      <td>0</td>\n",
              "      <td>0</td>\n",
              "      <td>0</td>\n",
              "      <td>0</td>\n",
              "      <td>0</td>\n",
              "      <td>0</td>\n",
              "      <td>0</td>\n",
              "      <td>0</td>\n",
              "      <td>0</td>\n",
              "      <td>0</td>\n",
              "      <td>0</td>\n",
              "      <td>0</td>\n",
              "      <td>0</td>\n",
              "      <td>0</td>\n",
              "      <td>0</td>\n",
              "      <td>0</td>\n",
              "      <td>0</td>\n",
              "      <td>0</td>\n",
              "      <td>0</td>\n",
              "      <td>0</td>\n",
              "      <td>0</td>\n",
              "      <td>0</td>\n",
              "      <td>...</td>\n",
              "      <td>0</td>\n",
              "      <td>0</td>\n",
              "      <td>0</td>\n",
              "      <td>0</td>\n",
              "      <td>0</td>\n",
              "      <td>0</td>\n",
              "      <td>0</td>\n",
              "      <td>0</td>\n",
              "      <td>0</td>\n",
              "      <td>0</td>\n",
              "      <td>0</td>\n",
              "      <td>0</td>\n",
              "      <td>0</td>\n",
              "      <td>0</td>\n",
              "      <td>0</td>\n",
              "      <td>0</td>\n",
              "      <td>0</td>\n",
              "      <td>0</td>\n",
              "      <td>0</td>\n",
              "      <td>0</td>\n",
              "      <td>0</td>\n",
              "      <td>0</td>\n",
              "      <td>0</td>\n",
              "      <td>0</td>\n",
              "      <td>0</td>\n",
              "      <td>0</td>\n",
              "      <td>0</td>\n",
              "      <td>0</td>\n",
              "      <td>0</td>\n",
              "      <td>0</td>\n",
              "      <td>0</td>\n",
              "      <td>0</td>\n",
              "      <td>0</td>\n",
              "      <td>0</td>\n",
              "      <td>0</td>\n",
              "      <td>0</td>\n",
              "      <td>0</td>\n",
              "      <td>0</td>\n",
              "      <td>0</td>\n",
              "      <td>0</td>\n",
              "    </tr>\n",
              "  </tbody>\n",
              "</table>\n",
              "<p>5 rows × 785 columns</p>\n",
              "</div>"
            ],
            "text/plain": [
              "   label  pixel0  pixel1  pixel2  ...  pixel780  pixel781  pixel782  pixel783\n",
              "0      1       0       0       0  ...         0         0         0         0\n",
              "1      0       0       0       0  ...         0         0         0         0\n",
              "2      1       0       0       0  ...         0         0         0         0\n",
              "3      4       0       0       0  ...         0         0         0         0\n",
              "4      0       0       0       0  ...         0         0         0         0\n",
              "\n",
              "[5 rows x 785 columns]"
            ]
          },
          "metadata": {
            "tags": []
          },
          "execution_count": 5
        }
      ]
    },
    {
      "cell_type": "code",
      "metadata": {
        "colab": {
          "base_uri": "https://localhost:8080/"
        },
        "id": "FkdTckcfKKh8",
        "outputId": "ec095b68-d6cb-41a3-88f6-2e851c822f94"
      },
      "source": [
        "#lets check for the maximum value in the columns\n",
        "train_df.to_numpy().max()"
      ],
      "execution_count": null,
      "outputs": [
        {
          "output_type": "execute_result",
          "data": {
            "text/plain": [
              "255"
            ]
          },
          "metadata": {
            "tags": []
          },
          "execution_count": 6
        }
      ]
    },
    {
      "cell_type": "code",
      "metadata": {
        "colab": {
          "base_uri": "https://localhost:8080/"
        },
        "id": "h45tr5NGKZOF",
        "outputId": "37102b18-537a-4898-cc40-4e8ec3400af9"
      },
      "source": [
        "#check the info of the dataframe which will include total number of columns, data size and label information\n",
        "train_df.info()"
      ],
      "execution_count": null,
      "outputs": [
        {
          "output_type": "stream",
          "text": [
            "<class 'pandas.core.frame.DataFrame'>\n",
            "RangeIndex: 42000 entries, 0 to 41999\n",
            "Columns: 785 entries, label to pixel783\n",
            "dtypes: int64(785)\n",
            "memory usage: 251.5 MB\n"
          ],
          "name": "stdout"
        }
      ]
    },
    {
      "cell_type": "markdown",
      "metadata": {
        "id": "Z1SvePXbZmEh"
      },
      "source": [
        ">## **2.2 Check for null and missing values**"
      ]
    },
    {
      "cell_type": "code",
      "metadata": {
        "colab": {
          "base_uri": "https://localhost:8080/"
        },
        "id": "OaMgMirHK8Ay",
        "outputId": "e6814221-2c41-4502-c94d-7441a64f6b20"
      },
      "source": [
        "#check for any null values in the column\n",
        "train_df.isnull().values.any()"
      ],
      "execution_count": null,
      "outputs": [
        {
          "output_type": "execute_result",
          "data": {
            "text/plain": [
              "False"
            ]
          },
          "metadata": {
            "tags": []
          },
          "execution_count": 8
        }
      ]
    },
    {
      "cell_type": "code",
      "metadata": {
        "colab": {
          "base_uri": "https://localhost:8080/"
        },
        "id": "4IOx43dvLvqn",
        "outputId": "5b8cb2cf-d535-460b-8c46-7e25719f0c99"
      },
      "source": [
        "#lets check for the shape of our train dataset\n",
        "train_df.shape"
      ],
      "execution_count": null,
      "outputs": [
        {
          "output_type": "execute_result",
          "data": {
            "text/plain": [
              "(42000, 785)"
            ]
          },
          "metadata": {
            "tags": []
          },
          "execution_count": 9
        }
      ]
    },
    {
      "cell_type": "markdown",
      "metadata": {
        "id": "WKPPJzK5byot"
      },
      "source": [
        "> ## **2.3 Label encoding**\n",
        "\n",
        "Labels are 10 digits numbers from 0 to 9. We need to encode these lables to one hot vectors (ex : 2 -> [0,0,1,0,0,0,0,0,0,0])."
      ]
    },
    {
      "cell_type": "code",
      "metadata": {
        "id": "6PhpNxCeLpN4"
      },
      "source": [
        "#extract the labels from the data and convert it to categorical data\n",
        "train_labels = np.asarray(train_df['label']);\n",
        "train_labels = to_categorical(train_labels);"
      ],
      "execution_count": null,
      "outputs": []
    },
    {
      "cell_type": "code",
      "metadata": {
        "colab": {
          "base_uri": "https://localhost:8080/"
        },
        "id": "dk3RafMpR-Az",
        "outputId": "a797b848-521c-4055-f3a2-298c7347c0ab"
      },
      "source": [
        "train_labels"
      ],
      "execution_count": null,
      "outputs": [
        {
          "output_type": "execute_result",
          "data": {
            "text/plain": [
              "array([[0., 1., 0., ..., 0., 0., 0.],\n",
              "       [1., 0., 0., ..., 0., 0., 0.],\n",
              "       [0., 1., 0., ..., 0., 0., 0.],\n",
              "       ...,\n",
              "       [0., 0., 0., ..., 1., 0., 0.],\n",
              "       [0., 0., 0., ..., 0., 0., 0.],\n",
              "       [0., 0., 0., ..., 0., 0., 1.]], dtype=float32)"
            ]
          },
          "metadata": {
            "tags": []
          },
          "execution_count": 11
        }
      ]
    },
    {
      "cell_type": "markdown",
      "metadata": {
        "id": "tIyn-ZDLdOt7"
      },
      "source": [
        "> ## **2.4 Reshape**\n",
        "\n",
        "Train and test images (28px x 28px) has been stock into pandas.Dataframe as 1D vectors of 784 values. We reshape all data to 28x28x1 3D matrices.\n",
        "\n",
        "Keras requires an extra dimension in the end which correspond to channels. MNIST images are gray scaled so it use only one channel. For RGB images, there is 3 channels, we would have reshaped 784px vectors to 28x28x3 3D matrices."
      ]
    },
    {
      "cell_type": "code",
      "metadata": {
        "id": "EfXZhzqhygSA"
      },
      "source": [
        "#Drop the labels from the train dataset and shape it in 28x28 size\n",
        "train_data = train_df.drop('label', axis=1)\n",
        "train_data = np.asarray(train_data).reshape(train_data.shape[0], 28, 28, 1)"
      ],
      "execution_count": null,
      "outputs": []
    },
    {
      "cell_type": "markdown",
      "metadata": {
        "id": "5B-dd-Tldadq"
      },
      "source": [
        "> ## **2.5 Normalization**\n",
        "\n",
        "We perform a grayscale normalization to reduce the effect of illumination's differences.\n",
        "\n",
        "Moreover the CNN converg faster on [0..1] data than on [0..255].\n",
        "\n",
        "\n",
        "*Keras ImageDataGenerator is a gem! It lets you augment your images in real-time while your model is still training! You can apply any random transformations on each training image as it is passed to the model. This will not only make your model robust but will also save up on the overhead memory.*\n",
        "\n",
        "In order to avoid overfitting problem, we need to expand artificially our handwritten digit dataset. We can make your existing dataset even larger. The idea is to alter the training data with small transformations to reproduce the variations occuring when someone is writing a digit.\n",
        "\n",
        "For example, the number is not centered The scale is not the same (some who write with big/small numbers) The image is rotated...\n",
        "\n",
        "Approaches that alter the training data in ways that change the array representation while keeping the label the same are known as data augmentation techniques. Some popular augmentations people use are grayscales, horizontal flips, vertical flips, random crops, color jitters, translations, rotations, and much more.\n",
        "\n",
        "By applying just a couple of these transformations to our training data, we can easily double or triple the number of training examples and create a very robust model.\n",
        "\n",
        "The improvement is important :\n",
        "\n",
        ">Without data augmentation i obtained an accuracy of 98.114%\n",
        "\n",
        ">With data augmentation i achieved 99.353% of accuracy"
      ]
    },
    {
      "cell_type": "code",
      "metadata": {
        "id": "2QAHmanURDMO"
      },
      "source": [
        "datagen = ImageDataGenerator(rescale=1./255,  #rescaling the images \n",
        "        featurewise_center=False,  # set input mean to 0 over the dataset\n",
        "        samplewise_center=False,  # set each sample mean to 0\n",
        "        featurewise_std_normalization=False,  # divide inputs by std of the dataset\n",
        "        samplewise_std_normalization=False,  # divide each input by its std\n",
        "        zca_whitening=False,  # apply ZCA whitening\n",
        "        rotation_range=10,  # randomly rotate images in the range (degrees, 0 to 180)\n",
        "        zoom_range = 0.1, # Randomly zoom image \n",
        "        width_shift_range=0.1,  # randomly shift images horizontally (fraction of total width)\n",
        "        height_shift_range=0.1,  # randomly shift images vertically (fraction of total height)\n",
        "        horizontal_flip=False,  # randomly flip images\n",
        "        fill_mode='constant', #keep the fill_mode to constant\n",
        "        vertical_flip=False)  # randomly flip images\n",
        "\n",
        "\n",
        "validation_datagen = ImageDataGenerator(rescale=1./255)"
      ],
      "execution_count": null,
      "outputs": []
    },
    {
      "cell_type": "markdown",
      "metadata": {
        "id": "zshkgonjju-D"
      },
      "source": [
        "For the data augmentation, i choosed to :\n",
        "\n",
        "* Randomly rotate some training images by 10 degrees\n",
        "* Randomly Zoom by 10% some training images\n",
        "* Randomly shift images horizontally by 10% of the width\n",
        "* Randomly shift images vertically by 10% of the height\n",
        "* I did not apply a vertical_flip nor horizontal_flip since it could have lead to misclassify symetrical numbers such as 6 and 9.\n",
        "\n",
        "Once our model is ready, we fit the training dataset ."
      ]
    },
    {
      "cell_type": "markdown",
      "metadata": {
        "id": "5EXIjwvofHfZ"
      },
      "source": [
        "> ## **2.6 Split training and valdiation set**\n",
        "\n",
        "I choosed to split the train set in two parts : a small fraction (10%) became the validation set which the model is evaluated and the rest (90%) is used to train the model.\n",
        "\n",
        "Since we have 42 000 training images of balanced labels (see 2.1 Load data), a random split of the train set doesn't cause some labels to be over represented in the validation set. Be carefull with some unbalanced dataset a simple random split could cause inaccurate evaluation during the validation.\n",
        "\n",
        "To avoid that, you could use stratify = True option in train_test_split function (Only for >=0.17 sklearn versions).\n",
        "\n",
        "We can get a better sense for one of these examples by visualising the image and looking at the label."
      ]
    },
    {
      "cell_type": "code",
      "metadata": {
        "id": "me81603NPepn"
      },
      "source": [
        "train_images, validation_images, train_labels, validation_labels = \n",
        "                      train_test_split(train_data, train_labels, test_size=0.3, random_state=40)"
      ],
      "execution_count": null,
      "outputs": []
    },
    {
      "cell_type": "markdown",
      "metadata": {
        "id": "OELgqPM6gI4N"
      },
      "source": [
        "> ## **2.7 Passing the Train dataset to the ImageDataGenerator**"
      ]
    },
    {
      "cell_type": "code",
      "metadata": {
        "id": "oO7wVAs7TQ8E"
      },
      "source": [
        "train_generator = datagen.flow(train_images, train_labels, batch_size=256)\n",
        "validation_generator = validation_datagen.flow(validation_images, validation_labels, batch_size=256)"
      ],
      "execution_count": null,
      "outputs": []
    },
    {
      "cell_type": "code",
      "metadata": {
        "colab": {
          "base_uri": "https://localhost:8080/",
          "height": 265
        },
        "id": "4ZsP7MeUgk49",
        "outputId": "7c0e8549-cd14-49ac-e30a-1f1b5236bf46"
      },
      "source": [
        "# Some examples\n",
        "g = plt.imshow(train_images[0][:,:,0])"
      ],
      "execution_count": null,
      "outputs": [
        {
          "output_type": "display_data",
          "data": {
            "image/png": "[encoded data removed]",
            "text/plain": [
              "<Figure size 432x288 with 1 Axes>"
            ]
          },
          "metadata": {
            "tags": [],
            "needs_background": "light"
          }
        }
      ]
    },
    {
      "cell_type": "markdown",
      "metadata": {
        "id": "DpSoDbzbgnXr"
      },
      "source": [
        "# **3**. **CNN**    \n",
        "> ## **3.1 Define the model**\n",
        "\n",
        "\n",
        "I used the Keras Sequential API, where you have just to add one layer at a time, starting from the input.\n",
        "\n",
        "The first is the convolutional (Conv2D) layer. It is like a set of learnable filters. I choosed to set 32 filters for the two firsts conv2D layers and 64 filters for the two last ones. Each filter transforms a part of the image (defined by the kernel size) using the kernel filter. The kernel filter matrix is applied on the whole image. Filters can be seen as a transformation of the image.\n",
        "\n",
        "The CNN can isolate features that are useful everywhere from these transformed images (feature maps).\n",
        "\n",
        "The second important layer in CNN is the pooling (MaxPool2D) layer. This layer simply acts as a downsampling filter. It looks at the 2 neighboring pixels and picks the maximal value. These are used to reduce computational cost, and to some extent also reduce overfitting. We have to choose the pooling size (i.e the area size pooled each time) more the pooling dimension is high, more the downsampling is important.\n",
        "\n",
        "Combining convolutional and pooling layers, CNN are able to combine local features and learn more global features of the image.\n",
        "\n",
        "Dropout is a regularization method, where a proportion of nodes in the layer are randomly ignored (setting their wieghts to zero) for each training sample. This drops randomly a propotion of the network and forces the network to learn features in a distributed way. This technique also improves generalization and reduces the overfitting.\n",
        "\n",
        "'relu' is the rectifier (activation function max(0,x). The rectifier activation function is used to add non linearity to the network.\n",
        "\n",
        "The Flatten layer is use to convert the final feature maps into a one single 1D vector. This flattening step is needed so that you can make use of fully connected layers after some convolutional/maxpool layers. It combines all the found local features of the previous convolutional layers.\n",
        "\n",
        "In the end i used the features in two fully-connected (Dense) layers which is just artificial an neural networks (ANN) classifier. In the last layer(Dense(10,activation=\"softmax\")) the net outputs distribution of probability of each class."
      ]
    },
    {
      "cell_type": "code",
      "metadata": {
        "id": "sSHSGZdYUjfI"
      },
      "source": [
        "# Set the CNN model \n",
        "# my CNN architechture is In -> [[Conv2D->relu]*2 -> MaxPool2D -> Dropout]*2 -> Flatten -> Dense -> Dropout -> Out\n",
        "model=Sequential()\n",
        "\n",
        "model.add(Conv2D(filters = 32, kernel_size = (5,5),padding = 'Same', \n",
        "                 activation ='relu', input_shape = (28,28,1)))\n",
        "model.add(Conv2D(filters = 32, kernel_size = (5,5),padding = 'Same', \n",
        "                 activation ='relu'))\n",
        "model.add(MaxPool2D(pool_size=(2,2)))\n",
        "model.add(Dropout(0.25))\n",
        "\n",
        "\n",
        "model.add(Conv2D(filters = 64, kernel_size = (3,3),padding = 'Same', \n",
        "                 activation ='relu'))\n",
        "model.add(Conv2D(filters = 64, kernel_size = (3,3),padding = 'Same', \n",
        "                 activation ='relu'))\n",
        "model.add(MaxPool2D(pool_size=(2,2), strides=(2,2)))\n",
        "model.add(Dropout(0.25))\n",
        "\n",
        "\n",
        "model.add(Flatten())\n",
        "model.add(Dense(256, activation = \"relu\"))\n",
        "model.add(Dropout(0.5))\n",
        "model.add(Dense(10, activation = \"softmax\"))"
      ],
      "execution_count": null,
      "outputs": []
    },
    {
      "cell_type": "code",
      "metadata": {
        "colab": {
          "base_uri": "https://localhost:8080/"
        },
        "id": "XOcyrbcuX4Pz",
        "outputId": "99c4c70c-826e-4f1b-ff13-7c9e8f76203d"
      },
      "source": [
        "# Summary\n",
        "model.summary()"
      ],
      "execution_count": null,
      "outputs": [
        {
          "output_type": "stream",
          "text": [
            "Model: \"sequential\"\n",
            "_________________________________________________________________\n",
            "Layer (type)                 Output Shape              Param #   \n",
            "=================================================================\n",
            "conv2d (Conv2D)              (None, 28, 28, 32)        832       \n",
            "_________________________________________________________________\n",
            "conv2d_1 (Conv2D)            (None, 28, 28, 32)        25632     \n",
            "_________________________________________________________________\n",
            "max_pooling2d (MaxPooling2D) (None, 14, 14, 32)        0         \n",
            "_________________________________________________________________\n",
            "dropout (Dropout)            (None, 14, 14, 32)        0         \n",
            "_________________________________________________________________\n",
            "conv2d_2 (Conv2D)            (None, 14, 14, 64)        18496     \n",
            "_________________________________________________________________\n",
            "conv2d_3 (Conv2D)            (None, 14, 14, 64)        36928     \n",
            "_________________________________________________________________\n",
            "max_pooling2d_1 (MaxPooling2 (None, 7, 7, 64)          0         \n",
            "_________________________________________________________________\n",
            "dropout_1 (Dropout)          (None, 7, 7, 64)          0         \n",
            "_________________________________________________________________\n",
            "flatten (Flatten)            (None, 3136)              0         \n",
            "_________________________________________________________________\n",
            "dense (Dense)                (None, 256)               803072    \n",
            "_________________________________________________________________\n",
            "dropout_2 (Dropout)          (None, 256)               0         \n",
            "_________________________________________________________________\n",
            "dense_1 (Dense)              (None, 10)                2570      \n",
            "=================================================================\n",
            "Total params: 887,530\n",
            "Trainable params: 887,530\n",
            "Non-trainable params: 0\n",
            "_________________________________________________________________\n"
          ],
          "name": "stdout"
        }
      ]
    },
    {
      "cell_type": "markdown",
      "metadata": {
        "id": "dVs3qgI3kLYo"
      },
      "source": [
        "# Lets save our Model to a PNG file "
      ]
    },
    {
      "cell_type": "code",
      "metadata": {
        "colab": {
          "base_uri": "https://localhost:8080/",
          "height": 1000
        },
        "id": "prd9vJHObaNi",
        "outputId": "ae97f571-d6a1-49bc-d8c7-ecd9d5e19c04"
      },
      "source": [
        "from tensorflow.keras.utils import plot_model\n",
        "from IPython.display import SVG, Image\n",
        "plot_model(model, to_file='model.png', show_shapes=True, show_layer_names=True)\n",
        "Image('model.png',width=720, height=1600)"
      ],
      "execution_count": null,
      "outputs": [
        {
          "output_type": "execute_result",
          "data": {
            "image/png": "[encoded data removed]",
            "text/plain": [
              "<IPython.core.display.Image object>"
            ]
          },
          "metadata": {
            "tags": [],
            "image/png": {
              "width": 720,
              "height": 1600
            }
          },
          "execution_count": 19
        }
      ]
    },
    {
      "cell_type": "markdown",
      "metadata": {
        "id": "3ooGgsnLmB65"
      },
      "source": [
        "# **3.2 Set the optimizer and annealer**\n",
        "\n",
        "Once our layers are added to the model, we need to set up a score function, a loss function and an optimisation algorithm.\n",
        "\n",
        "We define the loss function to measure how poorly our model performs on images with known labels. It is the error rate between the oberved labels and the predicted ones. We use a specific form for categorical classifications (>2 classes) called the \"categorical_crossentropy\".\n",
        "\n",
        "The most important function is the optimizer. This function will iteratively improve parameters (filters kernel values, weights and bias of neurons ...) in order to minimise the loss.\n",
        "\n",
        "I choosed RMSprop (with default values), it is a very effective optimizer. The RMSProp update adjusts the Adagrad method in a very simple way in an attempt to reduce its aggressive, monotonically decreasing learning rate. We could also have used Stochastic Gradient Descent ('sgd') optimizer, but it is slower than RMSprop.\n",
        "\n",
        "The metric function \"accuracy\" is used is to evaluate the performance our model. This metric function is similar to the loss function, except that the results from the metric evaluation are not used when training the model (only for evaluation)."
      ]
    },
    {
      "cell_type": "code",
      "metadata": {
        "id": "Cgz9N5oUbwZ7"
      },
      "source": [
        "# Define the optimizer\n",
        "optimizer = RMSprop(learning_rate=0.001, rho=0.9, epsilon=1e-08, decay=0.0)"
      ],
      "execution_count": null,
      "outputs": []
    },
    {
      "cell_type": "code",
      "metadata": {
        "id": "w5GKFbfQlsrS"
      },
      "source": [
        "# Model Compile \n",
        "model.compile(loss='categorical_crossentropy',\n",
        "              metrics=['accuracy',Precision(),Recall()],\n",
        "              optimizer=optimizer)"
      ],
      "execution_count": null,
      "outputs": []
    },
    {
      "cell_type": "markdown",
      "metadata": {
        "id": "PRCEAYX1ovg7"
      },
      "source": [
        "# **4. Evaluate the model**\n",
        ">## **4.1 Training and validation curves**\n",
        "\n",
        "I have used EarlyStopping and ModelChecking for value accuracy and eleminating the model run when the learning accuracy is not improving for more than 14 epoch"
      ]
    },
    {
      "cell_type": "code",
      "metadata": {
        "id": "uM10kKQHcXEz"
      },
      "source": [
        "# Defining Callbacks\n",
        "filepath = './best_weights.hdf5'\n",
        "earlystopping = EarlyStopping(monitor = 'val_accuracy', \n",
        "                              mode = 'max' , \n",
        "                              patience = 15,\n",
        "                              verbose = 1)\n",
        "\n",
        "checkpoint    = ModelCheckpoint(filepath, \n",
        "                                monitor = 'val_accuracy', \n",
        "                                mode='max', \n",
        "                                save_best_only=True, \n",
        "                                verbose = 1)\n",
        "\n",
        "callback_list = [earlystopping, checkpoint]"
      ],
      "execution_count": null,
      "outputs": []
    },
    {
      "cell_type": "code",
      "metadata": {
        "colab": {
          "base_uri": "https://localhost:8080/"
        },
        "id": "ff1rWNF8cDd1",
        "outputId": "27029c38-c528-4969-f13e-00f9b79dc588"
      },
      "source": [
        "#lets set train our model\n",
        "model_history=model.fit(train_generator, \n",
        "                        steps_per_epoch=100, \n",
        "                        epochs=40, \n",
        "                        validation_data=validation_generator, \n",
        "                        validation_steps=50, \n",
        "                        callbacks = callback_list,\n",
        "                        verbose=1)"
      ],
      "execution_count": null,
      "outputs": [
        {
          "output_type": "stream",
          "text": [
            "Epoch 1/40\n",
            "100/100 [==============================] - 16s 84ms/step - loss: 0.7802 - accuracy: 0.7407 - precision: 0.7746 - recall: 0.3996 - val_loss: 0.1066 - val_accuracy: 0.9680 - val_precision: 0.8998 - val_recall: 0.7109\n",
            "\n",
            "Epoch 00001: val_accuracy improved from -inf to 0.96802, saving model to ./best_weights.hdf5\n",
            "Epoch 2/40\n",
            "100/100 [==============================] - 7s 71ms/step - loss: 0.2222 - accuracy: 0.9332 - precision: 0.9230 - recall: 0.7908 - val_loss: 0.0639 - val_accuracy: 0.9805 - val_precision: 0.9352 - val_recall: 0.8342\n",
            "\n",
            "Epoch 00002: val_accuracy improved from 0.96802 to 0.98048, saving model to ./best_weights.hdf5\n",
            "Epoch 3/40\n",
            "100/100 [==============================] - 7s 70ms/step - loss: 0.1520 - accuracy: 0.9543 - precision: 0.9427 - recall: 0.8595 - val_loss: 0.0541 - val_accuracy: 0.9840 - val_precision: 0.9482 - val_recall: 0.8778\n",
            "\n",
            "Epoch 00003: val_accuracy improved from 0.98048 to 0.98405, saving model to ./best_weights.hdf5\n",
            "Epoch 4/40\n",
            "100/100 [==============================] - 7s 70ms/step - loss: 0.1185 - accuracy: 0.9642 - precision: 0.9523 - recall: 0.8908 - val_loss: 0.0472 - val_accuracy: 0.9852 - val_precision: 0.9556 - val_recall: 0.9013\n",
            "\n",
            "Epoch 00004: val_accuracy improved from 0.98405 to 0.98516, saving model to ./best_weights.hdf5\n",
            "Epoch 5/40\n",
            "100/100 [==============================] - 7s 69ms/step - loss: 0.1053 - accuracy: 0.9682 - precision: 0.9582 - recall: 0.9090 - val_loss: 0.0431 - val_accuracy: 0.9867 - val_precision: 0.9605 - val_recall: 0.9157\n",
            "\n",
            "Epoch 00005: val_accuracy improved from 0.98516 to 0.98675, saving model to ./best_weights.hdf5\n",
            "Epoch 6/40\n",
            "100/100 [==============================] - 7s 69ms/step - loss: 0.0856 - accuracy: 0.9735 - precision: 0.9624 - recall: 0.9211 - val_loss: 0.0369 - val_accuracy: 0.9885 - val_precision: 0.9641 - val_recall: 0.9260\n",
            "\n",
            "Epoch 00006: val_accuracy improved from 0.98675 to 0.98849, saving model to ./best_weights.hdf5\n",
            "Epoch 7/40\n",
            "100/100 [==============================] - 7s 72ms/step - loss: 0.0788 - accuracy: 0.9759 - precision: 0.9656 - recall: 0.9300 - val_loss: 0.0364 - val_accuracy: 0.9884 - val_precision: 0.9669 - val_recall: 0.9336\n",
            "\n",
            "Epoch 00007: val_accuracy did not improve from 0.98849\n",
            "Epoch 8/40\n",
            "100/100 [==============================] - 8s 75ms/step - loss: 0.0721 - accuracy: 0.9773 - precision: 0.9681 - recall: 0.9366 - val_loss: 0.0335 - val_accuracy: 0.9894 - val_precision: 0.9691 - val_recall: 0.9394\n",
            "\n",
            "Epoch 00008: val_accuracy improved from 0.98849 to 0.98937, saving model to ./best_weights.hdf5\n",
            "Epoch 9/40\n",
            "100/100 [==============================] - 7s 75ms/step - loss: 0.0635 - accuracy: 0.9804 - precision: 0.9701 - recall: 0.9419 - val_loss: 0.0307 - val_accuracy: 0.9910 - val_precision: 0.9710 - val_recall: 0.9442\n",
            "\n",
            "Epoch 00009: val_accuracy improved from 0.98937 to 0.99095, saving model to ./best_weights.hdf5\n",
            "Epoch 10/40\n",
            "100/100 [==============================] - 7s 73ms/step - loss: 0.0625 - accuracy: 0.9808 - precision: 0.9718 - recall: 0.9462 - val_loss: 0.0277 - val_accuracy: 0.9912 - val_precision: 0.9726 - val_recall: 0.9481\n",
            "\n",
            "Epoch 00010: val_accuracy improved from 0.99095 to 0.99119, saving model to ./best_weights.hdf5\n",
            "Epoch 11/40\n",
            "100/100 [==============================] - 7s 69ms/step - loss: 0.0559 - accuracy: 0.9843 - precision: 0.9734 - recall: 0.9499 - val_loss: 0.0263 - val_accuracy: 0.9918 - val_precision: 0.9741 - val_recall: 0.9515\n",
            "\n",
            "Epoch 00011: val_accuracy improved from 0.99119 to 0.99183, saving model to ./best_weights.hdf5\n",
            "Epoch 12/40\n",
            "100/100 [==============================] - 7s 71ms/step - loss: 0.0554 - accuracy: 0.9835 - precision: 0.9747 - recall: 0.9530 - val_loss: 0.0259 - val_accuracy: 0.9921 - val_precision: 0.9753 - val_recall: 0.9544\n",
            "\n",
            "Epoch 00012: val_accuracy improved from 0.99183 to 0.99214, saving model to ./best_weights.hdf5\n",
            "Epoch 13/40\n",
            "100/100 [==============================] - 7s 70ms/step - loss: 0.0513 - accuracy: 0.9847 - precision: 0.9758 - recall: 0.9556 - val_loss: 0.0272 - val_accuracy: 0.9914 - val_precision: 0.9763 - val_recall: 0.9568\n",
            "\n",
            "Epoch 00013: val_accuracy did not improve from 0.99214\n",
            "Epoch 14/40\n",
            "100/100 [==============================] - 7s 70ms/step - loss: 0.0504 - accuracy: 0.9855 - precision: 0.9768 - recall: 0.9579 - val_loss: 0.0275 - val_accuracy: 0.9921 - val_precision: 0.9772 - val_recall: 0.9590\n",
            "\n",
            "Epoch 00014: val_accuracy did not improve from 0.99214\n",
            "Epoch 15/40\n",
            "100/100 [==============================] - 7s 71ms/step - loss: 0.0488 - accuracy: 0.9855 - precision: 0.9776 - recall: 0.9599 - val_loss: 0.0351 - val_accuracy: 0.9897 - val_precision: 0.9780 - val_recall: 0.9608\n",
            "\n",
            "Epoch 00015: val_accuracy did not improve from 0.99214\n",
            "Epoch 16/40\n",
            "100/100 [==============================] - 8s 75ms/step - loss: 0.0468 - accuracy: 0.9861 - precision: 0.9784 - recall: 0.9616 - val_loss: 0.0265 - val_accuracy: 0.9915 - val_precision: 0.9787 - val_recall: 0.9624\n",
            "\n",
            "Epoch 00016: val_accuracy did not improve from 0.99214\n",
            "Epoch 17/40\n",
            "100/100 [==============================] - 8s 77ms/step - loss: 0.0463 - accuracy: 0.9853 - precision: 0.9790 - recall: 0.9631 - val_loss: 0.0294 - val_accuracy: 0.9912 - val_precision: 0.9793 - val_recall: 0.9639\n",
            "\n",
            "Epoch 00017: val_accuracy did not improve from 0.99214\n",
            "Epoch 18/40\n",
            "100/100 [==============================] - 8s 77ms/step - loss: 0.0435 - accuracy: 0.9868 - precision: 0.9796 - recall: 0.9645 - val_loss: 0.0287 - val_accuracy: 0.9922 - val_precision: 0.9799 - val_recall: 0.9652\n",
            "\n",
            "Epoch 00018: val_accuracy improved from 0.99214 to 0.99222, saving model to ./best_weights.hdf5\n",
            "Epoch 19/40\n",
            "100/100 [==============================] - 7s 72ms/step - loss: 0.0429 - accuracy: 0.9865 - precision: 0.9802 - recall: 0.9658 - val_loss: 0.0284 - val_accuracy: 0.9917 - val_precision: 0.9804 - val_recall: 0.9664\n",
            "\n",
            "Epoch 00019: val_accuracy did not improve from 0.99222\n",
            "Epoch 20/40\n",
            "100/100 [==============================] - 7s 72ms/step - loss: 0.0428 - accuracy: 0.9872 - precision: 0.9807 - recall: 0.9669 - val_loss: 0.0335 - val_accuracy: 0.9905 - val_precision: 0.9809 - val_recall: 0.9675\n",
            "\n",
            "Epoch 00020: val_accuracy did not improve from 0.99222\n",
            "Epoch 21/40\n",
            "100/100 [==============================] - 7s 71ms/step - loss: 0.0399 - accuracy: 0.9884 - precision: 0.9811 - recall: 0.9680 - val_loss: 0.0255 - val_accuracy: 0.9925 - val_precision: 0.9813 - val_recall: 0.9685\n",
            "\n",
            "Epoch 00021: val_accuracy improved from 0.99222 to 0.99254, saving model to ./best_weights.hdf5\n",
            "Epoch 22/40\n",
            "100/100 [==============================] - 7s 71ms/step - loss: 0.0425 - accuracy: 0.9870 - precision: 0.9815 - recall: 0.9689 - val_loss: 0.0230 - val_accuracy: 0.9933 - val_precision: 0.9817 - val_recall: 0.9694\n",
            "\n",
            "Epoch 00022: val_accuracy improved from 0.99254 to 0.99325, saving model to ./best_weights.hdf5\n",
            "Epoch 23/40\n",
            "100/100 [==============================] - 7s 71ms/step - loss: 0.0376 - accuracy: 0.9892 - precision: 0.9820 - recall: 0.9698 - val_loss: 0.0236 - val_accuracy: 0.9933 - val_precision: 0.9822 - val_recall: 0.9703\n",
            "\n",
            "Epoch 00023: val_accuracy improved from 0.99325 to 0.99333, saving model to ./best_weights.hdf5\n",
            "Epoch 24/40\n",
            "100/100 [==============================] - 8s 75ms/step - loss: 0.0371 - accuracy: 0.9887 - precision: 0.9824 - recall: 0.9707 - val_loss: 0.0263 - val_accuracy: 0.9929 - val_precision: 0.9825 - val_recall: 0.9711\n",
            "\n",
            "Epoch 00024: val_accuracy did not improve from 0.99333\n",
            "Epoch 25/40\n",
            "100/100 [==============================] - 8s 76ms/step - loss: 0.0361 - accuracy: 0.9900 - precision: 0.9827 - recall: 0.9715 - val_loss: 0.0265 - val_accuracy: 0.9933 - val_precision: 0.9829 - val_recall: 0.9719\n",
            "\n",
            "Epoch 00025: val_accuracy did not improve from 0.99333\n",
            "Epoch 26/40\n",
            "100/100 [==============================] - 8s 78ms/step - loss: 0.0379 - accuracy: 0.9891 - precision: 0.9831 - recall: 0.9722 - val_loss: 0.0205 - val_accuracy: 0.9941 - val_precision: 0.9833 - val_recall: 0.9726\n",
            "\n",
            "Epoch 00026: val_accuracy improved from 0.99333 to 0.99413, saving model to ./best_weights.hdf5\n",
            "Epoch 27/40\n",
            "100/100 [==============================] - 7s 72ms/step - loss: 0.0358 - accuracy: 0.9892 - precision: 0.9834 - recall: 0.9729 - val_loss: 0.0284 - val_accuracy: 0.9928 - val_precision: 0.9836 - val_recall: 0.9732\n",
            "\n",
            "Epoch 00027: val_accuracy did not improve from 0.99413\n",
            "Epoch 28/40\n",
            "100/100 [==============================] - 7s 73ms/step - loss: 0.0358 - accuracy: 0.9894 - precision: 0.9837 - recall: 0.9735 - val_loss: 0.0255 - val_accuracy: 0.9925 - val_precision: 0.9839 - val_recall: 0.9738\n",
            "\n",
            "Epoch 00028: val_accuracy did not improve from 0.99413\n",
            "Epoch 29/40\n",
            "100/100 [==============================] - 7s 71ms/step - loss: 0.0339 - accuracy: 0.9901 - precision: 0.9840 - recall: 0.9741 - val_loss: 0.0274 - val_accuracy: 0.9925 - val_precision: 0.9841 - val_recall: 0.9744\n",
            "\n",
            "Epoch 00029: val_accuracy did not improve from 0.99413\n",
            "Epoch 30/40\n",
            "100/100 [==============================] - 7s 72ms/step - loss: 0.0347 - accuracy: 0.9898 - precision: 0.9842 - recall: 0.9746 - val_loss: 0.0324 - val_accuracy: 0.9920 - val_precision: 0.9844 - val_recall: 0.9749\n",
            "\n",
            "Epoch 00030: val_accuracy did not improve from 0.99413\n",
            "Epoch 31/40\n",
            "100/100 [==============================] - 8s 77ms/step - loss: 0.0351 - accuracy: 0.9899 - precision: 0.9845 - recall: 0.9751 - val_loss: 0.0230 - val_accuracy: 0.9940 - val_precision: 0.9846 - val_recall: 0.9754\n",
            "\n",
            "Epoch 00031: val_accuracy did not improve from 0.99413\n",
            "Epoch 32/40\n",
            "100/100 [==============================] - 8s 77ms/step - loss: 0.0323 - accuracy: 0.9901 - precision: 0.9847 - recall: 0.9757 - val_loss: 0.0268 - val_accuracy: 0.9932 - val_precision: 0.9849 - val_recall: 0.9759\n",
            "\n",
            "Epoch 00032: val_accuracy did not improve from 0.99413\n",
            "Epoch 33/40\n",
            "100/100 [==============================] - 8s 77ms/step - loss: 0.0355 - accuracy: 0.9897 - precision: 0.9850 - recall: 0.9761 - val_loss: 0.0287 - val_accuracy: 0.9921 - val_precision: 0.9851 - val_recall: 0.9763\n",
            "\n",
            "Epoch 00033: val_accuracy did not improve from 0.99413\n",
            "Epoch 34/40\n",
            "100/100 [==============================] - 7s 73ms/step - loss: 0.0347 - accuracy: 0.9899 - precision: 0.9852 - recall: 0.9765 - val_loss: 0.0247 - val_accuracy: 0.9931 - val_precision: 0.9853 - val_recall: 0.9767\n",
            "\n",
            "Epoch 00034: val_accuracy did not improve from 0.99413\n",
            "Epoch 35/40\n",
            "100/100 [==============================] - 8s 77ms/step - loss: 0.0356 - accuracy: 0.9904 - precision: 0.9854 - recall: 0.9769 - val_loss: 0.0207 - val_accuracy: 0.9938 - val_precision: 0.9855 - val_recall: 0.9771\n",
            "\n",
            "Epoch 00035: val_accuracy did not improve from 0.99413\n",
            "Epoch 36/40\n",
            "100/100 [==============================] - 8s 77ms/step - loss: 0.0338 - accuracy: 0.9902 - precision: 0.9856 - recall: 0.9773 - val_loss: 0.0258 - val_accuracy: 0.9927 - val_precision: 0.9856 - val_recall: 0.9775\n",
            "\n",
            "Epoch 00036: val_accuracy did not improve from 0.99413\n",
            "Epoch 37/40\n",
            "100/100 [==============================] - 8s 76ms/step - loss: 0.0323 - accuracy: 0.9909 - precision: 0.9857 - recall: 0.9777 - val_loss: 0.0281 - val_accuracy: 0.9916 - val_precision: 0.9858 - val_recall: 0.9779\n",
            "\n",
            "Epoch 00037: val_accuracy did not improve from 0.99413\n",
            "Epoch 38/40\n",
            "100/100 [==============================] - 7s 72ms/step - loss: 0.0342 - accuracy: 0.9906 - precision: 0.9859 - recall: 0.9780 - val_loss: 0.0257 - val_accuracy: 0.9932 - val_precision: 0.9860 - val_recall: 0.9782\n",
            "\n",
            "Epoch 00038: val_accuracy did not improve from 0.99413\n",
            "Epoch 39/40\n",
            "100/100 [==============================] - 7s 72ms/step - loss: 0.0325 - accuracy: 0.9915 - precision: 0.9861 - recall: 0.9784 - val_loss: 0.0252 - val_accuracy: 0.9931 - val_precision: 0.9861 - val_recall: 0.9785\n",
            "\n",
            "Epoch 00039: val_accuracy did not improve from 0.99413\n",
            "Epoch 40/40\n",
            "100/100 [==============================] - 7s 72ms/step - loss: 0.0316 - accuracy: 0.9904 - precision: 0.9862 - recall: 0.9787 - val_loss: 0.0280 - val_accuracy: 0.9926 - val_precision: 0.9863 - val_recall: 0.9788\n",
            "\n",
            "Epoch 00040: val_accuracy did not improve from 0.99413\n"
          ],
          "name": "stdout"
        }
      ]
    },
    {
      "cell_type": "markdown",
      "metadata": {
        "id": "fxDTwGV_rA0L"
      },
      "source": [
        ">## **4.2. Evaluating the Model**\n",
        "\n",
        "Here I have used model metrices - Accuracy, Loss, Precision and recall to check the models performance and plot the graph of the respective metrics"
      ]
    },
    {
      "cell_type": "code",
      "metadata": {
        "colab": {
          "base_uri": "https://localhost:8080/"
        },
        "id": "C5Es2lQszCwW",
        "outputId": "7a79a6bd-0114-40eb-ef1b-3a497a724570"
      },
      "source": [
        "model.metrics_names"
      ],
      "execution_count": null,
      "outputs": [
        {
          "output_type": "execute_result",
          "data": {
            "text/plain": [
              "['loss', 'accuracy', 'precision', 'recall']"
            ]
          },
          "metadata": {
            "tags": []
          },
          "execution_count": 24
        }
      ]
    },
    {
      "cell_type": "code",
      "metadata": {
        "colab": {
          "base_uri": "https://localhost:8080/",
          "height": 1000
        },
        "id": "m8swA3Nul3ci",
        "outputId": "df05d58f-a4a6-4ba0-8ab0-40e945db5325"
      },
      "source": [
        "#Potting the Accuracy, Loss, Precision and recall\n",
        "plt.plot(model_history.history['accuracy'])\n",
        "plt.plot(model_history.history['val_accuracy'])\n",
        "plt.title('model accuracy')\n",
        "plt.ylabel('accuracy')\n",
        "plt.xlabel('epoch')\n",
        "plt.legend(['train', 'test'], loc='lower right')\n",
        "plt.show()\n",
        "print('\\n')\n",
        "\n",
        "plt.plot(model_history.history['loss'])\n",
        "plt.plot(model_history.history['val_loss'])\n",
        "plt.title('train set loss')\n",
        "plt.ylabel('loss')\n",
        "plt.xlabel('epoch')\n",
        "plt.legend(['train', 'test'], loc='upper right')\n",
        "plt.show()\n",
        "print('\\n')\n",
        "model.metrics_names\n",
        "\n",
        "plt.plot(model_history.history['precision'])\n",
        "plt.plot(model_history.history['val_precision'])\n",
        "plt.title(' precision')\n",
        "plt.ylabel('precision')\n",
        "plt.xlabel('epoch')\n",
        "plt.legend(['train', 'test'], loc='upper right')\n",
        "plt.show()\n",
        "print('\\n')\n",
        "\n",
        "plt.plot(model_history.history['recall'])\n",
        "plt.plot(model_history.history['val_recall'])\n",
        "plt.title(' recall')\n",
        "plt.ylabel('recall')\n",
        "plt.xlabel('epoch')\n",
        "plt.legend(['train', 'test'], loc='upper right')\n",
        "plt.show()"
      ],
      "execution_count": null,
      "outputs": [
        {
          "output_type": "display_data",
          "data": {
            "image/png": "[encoded data removed]",
            "text/plain": [
              "<Figure size 432x288 with 1 Axes>"
            ]
          },
          "metadata": {
            "tags": [],
            "needs_background": "light"
          }
        },
        {
          "output_type": "stream",
          "text": [
            "\n",
            "\n"
          ],
          "name": "stdout"
        },
        {
          "output_type": "display_data",
          "data": {
            "image/png": "[encoded data removed]",
            "text/plain": [
              "<Figure size 432x288 with 1 Axes>"
            ]
          },
          "metadata": {
            "tags": [],
            "needs_background": "light"
          }
        },
        {
          "output_type": "stream",
          "text": [
            "\n",
            "\n"
          ],
          "name": "stdout"
        },
        {
          "output_type": "display_data",
          "data": {
            "image/png": "[encoded data removed]",
            "text/plain": [
              "<Figure size 432x288 with 1 Axes>"
            ]
          },
          "metadata": {
            "tags": [],
            "needs_background": "light"
          }
        },
        {
          "output_type": "stream",
          "text": [
            "\n",
            "\n"
          ],
          "name": "stdout"
        },
        {
          "output_type": "display_data",
          "data": {
            "image/png": "[encoded data removed]",
            "text/plain": [
              "<Figure size 432x288 with 1 Axes>"
            ]
          },
          "metadata": {
            "tags": [],
            "needs_background": "light"
          }
        }
      ]
    },
    {
      "cell_type": "code",
      "metadata": {
        "colab": {
          "base_uri": "https://localhost:8080/"
        },
        "id": "Rqdj5cYJoVKN",
        "outputId": "55bc7940-6477-44e6-88ff-7d6bb8146e9c"
      },
      "source": [
        "#evaluating the model accuracy, precision, recall and loss\n",
        "loss, acc, precision, recall = model.evaluate(validation_generator)\n",
        "print('validation Accuracy: %.3f' % acc)\n",
        "print('validation Precision: %.3f' % precision)\n",
        "print('validation Recall: %.3f' % recall)\n",
        "print('validation loss: %.3f' % loss)"
      ],
      "execution_count": null,
      "outputs": [
        {
          "output_type": "stream",
          "text": [
            "50/50 [==============================] - 0s 9ms/step - loss: 0.0280 - accuracy: 0.9926 - precision: 0.9863 - recall: 0.9790\n",
            "validation Accuracy: 0.993\n",
            "validation Precision: 0.986\n",
            "validation Recall: 0.979\n",
            "validation loss: 0.028\n"
          ],
          "name": "stdout"
        }
      ]
    },
    {
      "cell_type": "markdown",
      "metadata": {
        "id": "Un-fJ-954JjA"
      },
      "source": [
        "# **4.3 Confusion matrix**\n",
        "Confusion matrix can be very helpfull to see your model drawbacks.\n",
        "\n",
        "I plot the confusion matrix of the validation results."
      ]
    },
    {
      "cell_type": "code",
      "metadata": {
        "colab": {
          "base_uri": "https://localhost:8080/",
          "height": 311
        },
        "id": "D0729KtC0dpx",
        "outputId": "f4028377-0188-4f9a-985a-f54263fe44ab"
      },
      "source": [
        "# Look at confusion matrix \n",
        "def plot_confusion_matrix(cm, classes,\n",
        "                          normalize=False,\n",
        "                          title='Confusion matrix',\n",
        "                          cmap=plt.cm.Blues):\n",
        "    \"\"\"\n",
        "    This function prints and plots the confusion matrix.\n",
        "    Normalization can be applied by setting `normalize=True`.\n",
        "    \"\"\"\n",
        "    plt.imshow(cm, interpolation='nearest', cmap=cmap)\n",
        "    plt.title(title)\n",
        "    plt.colorbar()\n",
        "    tick_marks = np.arange(len(classes))\n",
        "    plt.xticks(tick_marks, classes, rotation=45)\n",
        "    plt.yticks(tick_marks, classes)\n",
        "\n",
        "    if normalize:\n",
        "        cm = cm.astype('float') / cm.sum(axis=1)[:, np.newaxis]\n",
        "\n",
        "    thresh = cm.max() / 2.\n",
        "    for i, j in itertools.product(range(cm.shape[0]), range(cm.shape[1])):\n",
        "        plt.text(j, i, cm[i, j],\n",
        "                 horizontalalignment=\"center\",\n",
        "                 color=\"white\" if cm[i, j] > thresh else \"black\")\n",
        "\n",
        "    plt.tight_layout()\n",
        "    plt.ylabel('True label')\n",
        "    plt.xlabel('Predicted label')\n",
        "\n",
        "# Predict the values from the validation dataset\n",
        "Y_pred = model.predict(validation_images)\n",
        "# Convert predictions classes to one hot vectors \n",
        "Y_pred_classes = np.argmax(Y_pred,axis = 1) \n",
        "# Convert validation observations to one hot vectors\n",
        "Y_true = np.argmax(validation_labels,axis = 1) \n",
        "# compute the confusion matrix\n",
        "confusion_mtx = confusion_matrix(Y_true, Y_pred_classes) \n",
        "# plot the confusion matrix\n",
        "plot_confusion_matrix(confusion_mtx, classes = range(10)) "
      ],
      "execution_count": null,
      "outputs": [
        {
          "output_type": "display_data",
          "data": {
            "image/png": "[encoded data removed]",
            "text/plain": [
              "<Figure size 432x288 with 2 Axes>"
            ]
          },
          "metadata": {
            "tags": [],
            "needs_background": "light"
          }
        }
      ]
    },
    {
      "cell_type": "markdown",
      "metadata": {
        "id": "nw6KFbNu4AOM"
      },
      "source": [
        "Here we can see that our CNN performs very well on all digits with few errors considering the size of the validation set (4 200 images).\n",
        "\n",
        "However, it seems that our CNN has some little troubles with the 4 digits, they are misclassified as 9. Sometime it is very difficult to catch the difference between 4 and 9 when curves are smooth.\n",
        "\n",
        "Let's investigate for errors.\n",
        "\n",
        "I want to see the most important errors . For that purpose i need to get the difference between the probabilities of real value and the predicted ones in the results."
      ]
    },
    {
      "cell_type": "code",
      "metadata": {
        "colab": {
          "base_uri": "https://localhost:8080/",
          "height": 296
        },
        "id": "TKkmFuJe3LiU",
        "outputId": "b266483f-bbf4-44a9-f49b-2d359f0cb775"
      },
      "source": [
        "# Display some error results \n",
        "\n",
        "# Errors are difference between predicted labels and true labels\n",
        "errors = (Y_pred_classes - Y_true != 0)\n",
        "\n",
        "Y_pred_classes_errors = Y_pred_classes[errors]\n",
        "Y_pred_errors = Y_pred[errors]\n",
        "Y_true_errors = Y_true[errors]\n",
        "X_val_errors = validation_images[errors]\n",
        "\n",
        "def display_errors(errors_index,img_errors,pred_errors, obs_errors):\n",
        "    \"\"\" This function shows 6 images with their predicted and real labels\"\"\"\n",
        "    n = 0\n",
        "    nrows = 2\n",
        "    ncols = 3\n",
        "    fig, ax = plt.subplots(nrows,ncols,sharex=True,sharey=True)\n",
        "    for row in range(nrows):\n",
        "        for col in range(ncols):\n",
        "            error = errors_index[n]\n",
        "            ax[row,col].imshow((img_errors[error]).reshape((28,28)))\n",
        "            ax[row,col].set_title(\"Predicted label :{}\\nTrue label :{}\".format(pred_errors[error],obs_errors[error]))\n",
        "            n += 1\n",
        "\n",
        "# Probabilities of the wrong predicted numbers\n",
        "Y_pred_errors_prob = np.max(Y_pred_errors,axis = 1)\n",
        "\n",
        "# Predicted probabilities of the true values in the error set\n",
        "true_prob_errors = np.diagonal(np.take(Y_pred_errors, Y_true_errors, axis=1))\n",
        "\n",
        "# Difference between the probability of the predicted label and the true label\n",
        "delta_pred_true_errors = Y_pred_errors_prob - true_prob_errors\n",
        "\n",
        "# Sorted list of the delta prob errors\n",
        "sorted_dela_errors = np.argsort(delta_pred_true_errors)\n",
        "\n",
        "# Top 6 errors \n",
        "most_important_errors = sorted_dela_errors[-6:]\n",
        "\n",
        "# Show the top 6 errors\n",
        "display_errors(most_important_errors, X_val_errors, Y_pred_classes_errors, Y_true_errors)"
      ],
      "execution_count": null,
      "outputs": [
        {
          "output_type": "display_data",
          "data": {
            "image/png": "[encoded data removed]",
            "text/plain": [
              "<Figure size 432x288 with 6 Axes>"
            ]
          },
          "metadata": {
            "tags": [],
            "needs_background": "light"
          }
        }
      ]
    },
    {
      "cell_type": "markdown",
      "metadata": {
        "id": "CfzewNa34SY0"
      },
      "source": [
        "The most important errors are also the most intrigous.\n",
        "\n",
        "For those six case, the model is not ridiculous. Some of these errors can also be made by humans, especially for one the 9 that is very close to a 5. The last 6 is also very misleading, it seems for me that it is a 4.\n",
        "\n"
      ]
    },
    {
      "cell_type": "code",
      "metadata": {
        "id": "LorHGoBpjlw7"
      },
      "source": [
        "#Save the model\n",
        "model.save('./best_weights.hdf5')"
      ],
      "execution_count": null,
      "outputs": []
    },
    {
      "cell_type": "markdown",
      "metadata": {
        "id": "1HYpb62R40ck"
      },
      "source": [
        "# **5. Prediction and submition**\n",
        "\n",
        "> ## 5.1 Predict and Submit results"
      ]
    },
    {
      "cell_type": "code",
      "metadata": {
        "id": "vZCb2KRzjxUH"
      },
      "source": [
        "test_images = np.asarray(test_df)\n",
        "test_images = test_images.reshape(test_images.shape[0], 28, 28, 1)\n",
        "test_images = test_images.astype('float32')/255"
      ],
      "execution_count": null,
      "outputs": []
    },
    {
      "cell_type": "code",
      "metadata": {
        "id": "mBe9K7k7fJg-"
      },
      "source": [
        "predictions = model.predict(test_images, batch_size=128)\n",
        "image_id = range(1, predictions.shape[0] + 1)"
      ],
      "execution_count": null,
      "outputs": []
    },
    {
      "cell_type": "code",
      "metadata": {
        "id": "4u3JCkp-f5rL"
      },
      "source": [
        "pred = [np.argmax(i) for i in predictions]"
      ],
      "execution_count": null,
      "outputs": []
    },
    {
      "cell_type": "code",
      "metadata": {
        "id": "A3y0Td9ugsmm"
      },
      "source": [
        "data = {'ImageId':image_id,'Label':pred}\n",
        "df = pd.DataFrame(data)"
      ],
      "execution_count": null,
      "outputs": []
    },
    {
      "cell_type": "code",
      "metadata": {
        "id": "-7aQYWATg3Ai"
      },
      "source": [
        "df.to_csv(path_or_buf='/content/drive/MyDrive/Colab Notebooks/Projects/submission.csv', index=False)"
      ],
      "execution_count": null,
      "outputs": []
    }
  ]
}